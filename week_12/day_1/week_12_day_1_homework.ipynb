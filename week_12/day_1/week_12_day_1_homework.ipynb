{
 "cells": [
  {
   "cell_type": "markdown",
   "id": "06418ebb",
   "metadata": {},
   "source": [
    "# Question 1"
   ]
  },
  {
   "cell_type": "markdown",
   "id": "f78a0cb2",
   "metadata": {},
   "source": [
    "Create a list called shopping. <br>\n",
    "Find the second element <br>\n",
    "Find the first to third element <br>\n",
    "Extract the last element"
   ]
  },
  {
   "cell_type": "code",
   "execution_count": 84,
   "id": "31b43917",
   "metadata": {},
   "outputs": [],
   "source": [
    "shopping = [\"spam\", \"ham\", \"eggs\", \"ham\"]"
   ]
  },
  {
   "cell_type": "code",
   "execution_count": 85,
   "id": "7f45d5ff",
   "metadata": {},
   "outputs": [
    {
     "data": {
      "text/plain": [
       "'ham'"
      ]
     },
     "execution_count": 85,
     "metadata": {},
     "output_type": "execute_result"
    }
   ],
   "source": [
    "shopping[1]"
   ]
  },
  {
   "cell_type": "code",
   "execution_count": 86,
   "id": "0d5e22b7",
   "metadata": {},
   "outputs": [
    {
     "data": {
      "text/plain": [
       "['spam', 'ham', 'eggs']"
      ]
     },
     "execution_count": 86,
     "metadata": {},
     "output_type": "execute_result"
    }
   ],
   "source": [
    "shopping[0:3]"
   ]
  },
  {
   "cell_type": "code",
   "execution_count": 87,
   "id": "8ff24e8c",
   "metadata": {},
   "outputs": [
    {
     "data": {
      "text/plain": [
       "'ham'"
      ]
     },
     "execution_count": 87,
     "metadata": {},
     "output_type": "execute_result"
    }
   ],
   "source": [
    "shopping[-1]"
   ]
  },
  {
   "cell_type": "markdown",
   "id": "2a794080",
   "metadata": {},
   "source": [
    "# Question 2"
   ]
  },
  {
   "cell_type": "markdown",
   "id": "0ecee0aa",
   "metadata": {},
   "source": [
    "Append Edinburgh Waverley to the end of the list <br>\n",
    "Add \"Queen Street\" to the start of the list <br>\n",
    "Find out what index \"Croy\" is at in the list <br>\n",
    "Add \"Polmont\" at the appropriate point (between \"Falkirk High\" and \"Linlithgow\") <br>\n",
    "Remove \"Haymarket\" from the list of stops <br>\n",
    "Remove all items from stops <br>"
   ]
  },
  {
   "cell_type": "code",
   "execution_count": 88,
   "id": "399bb392",
   "metadata": {},
   "outputs": [],
   "source": [
    "stops = [\"Croy\", \"Cumbernauld\", \"Falkirk High\", \"Linlithgow\", \"Livingston\", \"Haymarket\"]"
   ]
  },
  {
   "cell_type": "code",
   "execution_count": 89,
   "id": "178e1fea",
   "metadata": {},
   "outputs": [
    {
     "data": {
      "text/plain": [
       "['Croy',\n",
       " 'Cumbernauld',\n",
       " 'Falkirk High',\n",
       " 'Linlithgow',\n",
       " 'Livingston',\n",
       " 'Haymarket',\n",
       " 'Edinburgh Waverley']"
      ]
     },
     "execution_count": 89,
     "metadata": {},
     "output_type": "execute_result"
    }
   ],
   "source": [
    "stops.append(\"Edinburgh Waverley\")\n",
    "stops"
   ]
  },
  {
   "cell_type": "code",
   "execution_count": 90,
   "id": "853706d5",
   "metadata": {},
   "outputs": [
    {
     "data": {
      "text/plain": [
       "['Queen Street',\n",
       " 'Croy',\n",
       " 'Cumbernauld',\n",
       " 'Falkirk High',\n",
       " 'Linlithgow',\n",
       " 'Livingston',\n",
       " 'Haymarket',\n",
       " 'Edinburgh Waverley']"
      ]
     },
     "execution_count": 90,
     "metadata": {},
     "output_type": "execute_result"
    }
   ],
   "source": [
    "stops = [\"Queen Street\"] + stops\n",
    "stops"
   ]
  },
  {
   "cell_type": "code",
   "execution_count": 91,
   "id": "51017445",
   "metadata": {},
   "outputs": [
    {
     "data": {
      "text/plain": [
       "['Queen Street',\n",
       " 'Queen Street',\n",
       " 'Croy',\n",
       " 'Cumbernauld',\n",
       " 'Falkirk High',\n",
       " 'Linlithgow',\n",
       " 'Livingston',\n",
       " 'Haymarket',\n",
       " 'Edinburgh Waverley']"
      ]
     },
     "execution_count": 91,
     "metadata": {},
     "output_type": "execute_result"
    }
   ],
   "source": [
    "# instructor answer\n",
    "stops.insert(0, \"Queen Street\")\n",
    "stops"
   ]
  },
  {
   "cell_type": "code",
   "execution_count": 13,
   "id": "1d6e4a66",
   "metadata": {},
   "outputs": [
    {
     "data": {
      "text/plain": [
       "1"
      ]
     },
     "execution_count": 13,
     "metadata": {},
     "output_type": "execute_result"
    }
   ],
   "source": [
    "stops.index(\"Croy\")"
   ]
  },
  {
   "cell_type": "code",
   "execution_count": 14,
   "id": "9430fc49",
   "metadata": {},
   "outputs": [
    {
     "data": {
      "text/plain": [
       "['Queen Street',\n",
       " 'Croy',\n",
       " 'Cumbernauld',\n",
       " 'Falkirk High',\n",
       " 'Polmont',\n",
       " 'Linlithgow',\n",
       " 'Livingston',\n",
       " 'Haymarket',\n",
       " 'Edinburgh Waverley']"
      ]
     },
     "execution_count": 14,
     "metadata": {},
     "output_type": "execute_result"
    }
   ],
   "source": [
    "stops = stops[0:4] + [\"Polmont\"] + stops[4:]\n",
    "stops"
   ]
  },
  {
   "cell_type": "code",
   "execution_count": null,
   "id": "561d1a72",
   "metadata": {},
   "outputs": [],
   "source": [
    "# better answer\n",
    "stops.insert(4, \"Polmont\")\n",
    "stops"
   ]
  },
  {
   "cell_type": "code",
   "execution_count": 16,
   "id": "aa3fafc1",
   "metadata": {},
   "outputs": [
    {
     "data": {
      "text/plain": [
       "['Queen Street',\n",
       " 'Croy',\n",
       " 'Cumbernauld',\n",
       " 'Falkirk High',\n",
       " 'Polmont',\n",
       " 'Linlithgow',\n",
       " 'Livingston',\n",
       " 'Edinburgh Waverley']"
      ]
     },
     "execution_count": 16,
     "metadata": {},
     "output_type": "execute_result"
    }
   ],
   "source": [
    "stops.remove(\"Haymarket\")\n",
    "stops"
   ]
  },
  {
   "cell_type": "code",
   "execution_count": 18,
   "id": "2125221f",
   "metadata": {},
   "outputs": [
    {
     "data": {
      "text/plain": [
       "[]"
      ]
     },
     "execution_count": 18,
     "metadata": {},
     "output_type": "execute_result"
    }
   ],
   "source": [
    "stops.clear()\n",
    "stops"
   ]
  },
  {
   "cell_type": "markdown",
   "id": "df7d4f72",
   "metadata": {},
   "source": [
    "# Question 3"
   ]
  },
  {
   "cell_type": "markdown",
   "id": "48916757",
   "metadata": {},
   "source": [
    "Set up the following dictionary:\n",
    "\n",
    "person = {\"name\": \"Steph\", \"age\": 31, \"Instructor\" : True}\n",
    "\n",
    "Do the following:\n",
    "\n",
    "Return the keys, values and items from this dictionary\n",
    "\n",
    "Take out only the name from it\n",
    "\n",
    "Add a new key:value pair, which adds the email \"steph@codeclan.com\" to the dictionary\n",
    "\n",
    "Delete the job description from the dictionary (Hint: look up the del function)"
   ]
  },
  {
   "cell_type": "code",
   "execution_count": 19,
   "id": "8b023f16",
   "metadata": {},
   "outputs": [],
   "source": [
    "person = {\"name\": \"Steph\", \"age\": 31, \"Instructor\" : True}"
   ]
  },
  {
   "cell_type": "code",
   "execution_count": 20,
   "id": "14d441e9",
   "metadata": {},
   "outputs": [
    {
     "data": {
      "text/plain": [
       "dict_keys(['name', 'age', 'Instructor'])"
      ]
     },
     "execution_count": 20,
     "metadata": {},
     "output_type": "execute_result"
    }
   ],
   "source": [
    "person.keys()"
   ]
  },
  {
   "cell_type": "code",
   "execution_count": 21,
   "id": "555aa1aa",
   "metadata": {},
   "outputs": [
    {
     "data": {
      "text/plain": [
       "dict_values(['Steph', 31, True])"
      ]
     },
     "execution_count": 21,
     "metadata": {},
     "output_type": "execute_result"
    }
   ],
   "source": [
    "person.values()"
   ]
  },
  {
   "cell_type": "code",
   "execution_count": 22,
   "id": "118ad910",
   "metadata": {},
   "outputs": [
    {
     "data": {
      "text/plain": [
       "dict_items([('name', 'Steph'), ('age', 31), ('Instructor', True)])"
      ]
     },
     "execution_count": 22,
     "metadata": {},
     "output_type": "execute_result"
    }
   ],
   "source": [
    "person.items()"
   ]
  },
  {
   "cell_type": "code",
   "execution_count": 23,
   "id": "7afba3eb",
   "metadata": {},
   "outputs": [
    {
     "data": {
      "text/plain": [
       "'Steph'"
      ]
     },
     "execution_count": 23,
     "metadata": {},
     "output_type": "execute_result"
    }
   ],
   "source": [
    "person[\"name\"]"
   ]
  },
  {
   "cell_type": "code",
   "execution_count": 24,
   "id": "748bef0c",
   "metadata": {},
   "outputs": [
    {
     "data": {
      "text/plain": [
       "{'name': 'Steph', 'age': 31, 'Instructor': True, 'email': 'steph@codeclan.com'}"
      ]
     },
     "execution_count": 24,
     "metadata": {},
     "output_type": "execute_result"
    }
   ],
   "source": [
    "person.update({\"email\": \"steph@codeclan.com\"})\n",
    "person"
   ]
  },
  {
   "cell_type": "code",
   "execution_count": null,
   "id": "7b5f8749",
   "metadata": {},
   "outputs": [],
   "source": [
    "# alternate answer\n",
    "person[\"email\"] = \"steph@codeclan.com\"\n",
    "person"
   ]
  },
  {
   "cell_type": "code",
   "execution_count": 26,
   "id": "6e3a91f2",
   "metadata": {},
   "outputs": [
    {
     "data": {
      "text/plain": [
       "{'name': 'Steph', 'age': 31, 'email': 'steph@codeclan.com'}"
      ]
     },
     "execution_count": 26,
     "metadata": {},
     "output_type": "execute_result"
    }
   ],
   "source": [
    "del person[\"Instructor\"]\n",
    "person"
   ]
  },
  {
   "cell_type": "markdown",
   "id": "2eff0cf6",
   "metadata": {},
   "source": [
    "# Question 4"
   ]
  },
  {
   "cell_type": "code",
   "execution_count": 92,
   "id": "b21b2111",
   "metadata": {},
   "outputs": [],
   "source": [
    "numbers = [1, 6, 2, 2, 7, 1, 6, 13, 99, 7]"
   ]
  },
  {
   "cell_type": "code",
   "execution_count": 93,
   "id": "ea083d90",
   "metadata": {},
   "outputs": [
    {
     "data": {
      "text/plain": [
       "[6, 2, 2, 6]"
      ]
     },
     "execution_count": 93,
     "metadata": {},
     "output_type": "execute_result"
    }
   ],
   "source": [
    "[i for i in numbers if i % 2 == 0]"
   ]
  },
  {
   "cell_type": "code",
   "execution_count": 94,
   "id": "1710bd94",
   "metadata": {},
   "outputs": [
    {
     "data": {
      "text/plain": [
       "98"
      ]
     },
     "execution_count": 94,
     "metadata": {},
     "output_type": "execute_result"
    }
   ],
   "source": [
    "max(numbers)-min(numbers)"
   ]
  },
  {
   "cell_type": "code",
   "execution_count": 95,
   "id": "8ea0ccfa",
   "metadata": {},
   "outputs": [
    {
     "data": {
      "text/plain": [
       "[True]"
      ]
     },
     "execution_count": 95,
     "metadata": {},
     "output_type": "execute_result"
    }
   ],
   "source": [
    "[True for i in range(len(numbers)-1) if numbers[i] == numbers[i+1]]"
   ]
  },
  {
   "cell_type": "markdown",
   "id": "c73b05b4",
   "metadata": {},
   "source": [
    "Print the sum of the numbers, BUT ignore any section of numbers starting with a 6 and extending to the next 7. So [11, 6, 4, 99, 7, 11] would have sum of 22"
   ]
  },
  {
   "cell_type": "code",
   "execution_count": 96,
   "id": "c81b0efa",
   "metadata": {},
   "outputs": [
    {
     "name": "stdout",
     "output_type": "stream",
     "text": [
      "2\n"
     ]
    }
   ],
   "source": [
    "# instructor answer\n",
    "total = 0\n",
    "skip_this_bit = False\n",
    "for number in numbers: \n",
    "    if number == 6:\n",
    "        # start skipping\n",
    "        skip_this_bit = True\n",
    "    elif skip_this_bit:\n",
    "        if number == 7:\n",
    "            # if we're skipping, and this number is 7\n",
    "            # then stop skipping\n",
    "            skip_this_bit = False\n",
    "    else:\n",
    "        total += number\n",
    "\n",
    "print(total)"
   ]
  },
  {
   "cell_type": "markdown",
   "id": "5158b6f7",
   "metadata": {},
   "source": [
    "# Question 5"
   ]
  },
  {
   "cell_type": "markdown",
   "id": "ded2ded6",
   "metadata": {},
   "source": [
    "We want to print \"Woo Python!\" if either `python_is_fun` is true OR `python_is_weird` is true OR both `python_is_fun` and `python_is_weird` are true. Otherwise, print `\"Python is not for me!\"`. Make sure you test all the combinations."
   ]
  },
  {
   "cell_type": "code",
   "execution_count": 98,
   "id": "2e34b281",
   "metadata": {},
   "outputs": [
    {
     "name": "stdout",
     "output_type": "stream",
     "text": [
      "Woo Python!\n"
     ]
    }
   ],
   "source": [
    "python_is_fun = True\n",
    "python_is_weird = False\n",
    "\n",
    "if python_is_fun or python_is_weird:\n",
    "    print(\"Woo Python!\")\n",
    "#elif python_is_fun and python_is_weird:\n",
    "#    print(\"Woo Python!\")\n",
    "else:\n",
    "    print(\"Python is not for me!\")\n",
    "    "
   ]
  },
  {
   "cell_type": "markdown",
   "id": "51c68a68",
   "metadata": {},
   "source": [
    "# Question 6"
   ]
  },
  {
   "cell_type": "markdown",
   "id": "338bcd8d",
   "metadata": {},
   "source": [
    "We have a list of chickens and the farmer would like to go through all the chickens, collecting the eggs and getting the total number of eggs collected."
   ]
  },
  {
   "cell_type": "code",
   "execution_count": 48,
   "id": "08e49276",
   "metadata": {},
   "outputs": [],
   "source": [
    "chickens = [\n",
    "  { \"name\": \"Margaret\", \"age\": 2, \"eggs\": 0 },\n",
    "  { \"name\": \"Hetty\", \"age\": 1, \"eggs\": 2 },\n",
    "  { \"name\": \"Henrietta\", \"age\": 3, \"eggs\": 1 },\n",
    "  { \"name\": \"Audrey\", \"age\": 2, \"eggs\": 0 },\n",
    "  { \"name\": \"Mabel\", \"age\": 5, \"eggs\": 1 },\n",
    "]"
   ]
  },
  {
   "cell_type": "code",
   "execution_count": 51,
   "id": "3e88e67e",
   "metadata": {},
   "outputs": [
    {
     "data": {
      "text/plain": [
       "'4 eggs collected'"
      ]
     },
     "execution_count": 51,
     "metadata": {},
     "output_type": "execute_result"
    }
   ],
   "source": [
    "def count_eggs(input_dict):\n",
    "    total_eggs = 0\n",
    "    for chicken in input_dict:\n",
    "        total_eggs += chicken[\"eggs\"]\n",
    "    return(f\"{total_eggs} eggs collected\")\n",
    "\n",
    "count_eggs(chickens)"
   ]
  },
  {
   "cell_type": "markdown",
   "id": "af8e3497",
   "metadata": {},
   "source": [
    "# Extension 1"
   ]
  },
  {
   "cell_type": "markdown",
   "id": "f38bce39",
   "metadata": {},
   "source": [
    "Change the capital of Wales from \"Swansea\" to \"Cardiff\"."
   ]
  },
  {
   "cell_type": "code",
   "execution_count": 59,
   "id": "f3f0ad9d",
   "metadata": {},
   "outputs": [],
   "source": [
    "united_kingdom = [\n",
    "  {\n",
    "    \"name\": \"Scotland\",\n",
    "    \"population\": 5295000,\n",
    "    \"capital\": \"Edinburgh\"\n",
    "  },\n",
    "  {\n",
    "    \"name\": \"Wales\",\n",
    "    \"population\": 3063000,\n",
    "    \"capital\": \"Swansea\"\n",
    "  },\n",
    "  {\n",
    "    \"name\": \"England\",\n",
    "    \"population\": 53010000,\n",
    "    \"capital\": \"London\"\n",
    "  }\n",
    "]"
   ]
  },
  {
   "cell_type": "code",
   "execution_count": 60,
   "id": "c6248bd0",
   "metadata": {},
   "outputs": [
    {
     "data": {
      "text/plain": [
       "[{'name': 'Scotland', 'population': 5295000, 'capital': 'Edinburgh'},\n",
       " {'name': 'Wales', 'population': 3063000, 'capital': 'Cardiff'},\n",
       " {'name': 'England', 'population': 53010000, 'capital': 'London'}]"
      ]
     },
     "execution_count": 60,
     "metadata": {},
     "output_type": "execute_result"
    }
   ],
   "source": [
    "united_kingdom[1].update({\"capital\": \"Cardiff\"})\n",
    "united_kingdom"
   ]
  },
  {
   "cell_type": "code",
   "execution_count": null,
   "id": "fbf69cd4",
   "metadata": {},
   "outputs": [],
   "source": [
    "# instructor answer\n",
    "united_kingdom[1][\"capital\"] = \"Cardiff\""
   ]
  },
  {
   "cell_type": "markdown",
   "id": "5a1e0da4",
   "metadata": {},
   "source": [
    "Create a dictionary for Northern Ireland and add it to the united_kingdom list (The capital is Belfast, and the population is 1,811,000)."
   ]
  },
  {
   "cell_type": "code",
   "execution_count": 63,
   "id": "5bcfcd61",
   "metadata": {},
   "outputs": [
    {
     "data": {
      "text/plain": [
       "[{'name': 'Scotland', 'population': 5295000, 'capital': 'Edinburgh'},\n",
       " {'name': 'Wales', 'population': 3063000, 'capital': 'Cardiff'},\n",
       " {'name': 'England', 'population': 53010000, 'capital': 'London'},\n",
       " {'name': 'Northern Ireland', 'population': 1811000, 'capital': 'Belfast'}]"
      ]
     },
     "execution_count": 63,
     "metadata": {},
     "output_type": "execute_result"
    }
   ],
   "source": [
    "united_kingdom.extend([{\n",
    "    \"name\": \"Northern Ireland\",\n",
    "    \"population\": 1811000,\n",
    "    \"capital\": \"Belfast\"}])\n",
    "united_kingdom"
   ]
  },
  {
   "cell_type": "code",
   "execution_count": null,
   "id": "dcf15519",
   "metadata": {},
   "outputs": [],
   "source": [
    "# instructor\n",
    "united_kingdom.append({\n",
    "  \"name\": \"Northern Ireland\",\n",
    "  \"population\": 1811000,\n",
    "  \"capital\": \"Belfast\"\n",
    "})"
   ]
  },
  {
   "cell_type": "code",
   "execution_count": 75,
   "id": "d073a0ae",
   "metadata": {},
   "outputs": [
    {
     "data": {
      "text/plain": [
       "['Scotland', 'Wales', 'England', 'Northern Ireland']"
      ]
     },
     "execution_count": 75,
     "metadata": {},
     "output_type": "execute_result"
    }
   ],
   "source": [
    "[united_kingdom[i][\"name\"] for i in range(len(united_kingdom))]\n",
    "#OR\n",
    "for country in united_kingdom:\n",
    "    print(country[\"name\"])"
   ]
  },
  {
   "cell_type": "code",
   "execution_count": 82,
   "id": "0e7db279",
   "metadata": {},
   "outputs": [
    {
     "data": {
      "text/plain": [
       "63179000"
      ]
     },
     "execution_count": 82,
     "metadata": {},
     "output_type": "execute_result"
    }
   ],
   "source": [
    "total_population = 0\n",
    "for i in range(len(united_kingdom)):\n",
    "    total_population += united_kingdom[i][\"population\"]\n",
    "total_population"
   ]
  }
 ],
 "metadata": {
  "kernelspec": {
   "display_name": "Python 3 (ipykernel)",
   "language": "python",
   "name": "python3"
  },
  "language_info": {
   "codemirror_mode": {
    "name": "ipython",
    "version": 3
   },
   "file_extension": ".py",
   "mimetype": "text/x-python",
   "name": "python",
   "nbconvert_exporter": "python",
   "pygments_lexer": "ipython3",
   "version": "3.9.7"
  },
  "varInspector": {
   "cols": {
    "lenName": 16,
    "lenType": 16,
    "lenVar": 40
   },
   "kernels_config": {
    "python": {
     "delete_cmd_postfix": "",
     "delete_cmd_prefix": "del ",
     "library": "var_list.py",
     "varRefreshCmd": "print(var_dic_list())"
    },
    "r": {
     "delete_cmd_postfix": ") ",
     "delete_cmd_prefix": "rm(",
     "library": "var_list.r",
     "varRefreshCmd": "cat(var_dic_list()) "
    }
   },
   "types_to_exclude": [
    "module",
    "function",
    "builtin_function_or_method",
    "instance",
    "_Feature"
   ],
   "window_display": false
  }
 },
 "nbformat": 4,
 "nbformat_minor": 5
}
